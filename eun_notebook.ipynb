{
 "cells": [
  {
   "cell_type": "code",
   "execution_count": 10,
   "metadata": {},
   "outputs": [],
   "source": [
    "import json\n",
    "from lost_in_the_middle.metrics import best_subspan_em\n",
    "from xopen import xopen"
   ]
  },
  {
   "cell_type": "code",
   "execution_count": null,
   "metadata": {},
   "outputs": [],
   "source": [
    "preds_test_oracle = []\n",
    "with xopen('pred_compressed/500_ours-base/nq_dpr_test3610_20/test_oracle.jsonl.gz_Meta-Llama-3-8B-Instruct_temp') as f:\n",
    "    for lin in f:\n",
    "        preds_test_oracle.append(json.loads(lin))"
   ]
  },
  {
   "cell_type": "code",
   "execution_count": 19,
   "metadata": {},
   "outputs": [],
   "source": [
    "preds_3610_closed = []\n",
    "with xopen('pred_compressed/500_ours-base/nq_dpr_test3610_20/fid_500_ctxTrue_sortTrue_sentTrue0.2_1_tokFalse0.jsonl.gz_Meta-Llama-3-8B-Instruct_closedbook') as f:\n",
    "    for lin in f:\n",
    "        preds_3610_closed.append(json.loads(lin))\n",
    "\n",
    "preds_closed_wrong = []\n",
    "preds_closed_right = [] \n",
    "for pred in preds_3610_closed:\n",
    "    model_answer = pred['model_answer']\n",
    "    gold_answers = pred['answers']\n",
    "    if best_subspan_em(prediction=model_answer, ground_truths=gold_answers):\n",
    "        preds_closed_right.append(pred)\n",
    "    else:\n",
    "        preds_closed_wrong.append(pred)\n",
    "q_set_right = set([pred['question'] for pred in preds_closed_right])"
   ]
  },
  {
   "cell_type": "code",
   "execution_count": 20,
   "metadata": {},
   "outputs": [
    {
     "data": {
      "text/plain": [
       "1571"
      ]
     },
     "execution_count": 20,
     "metadata": {},
     "output_type": "execute_result"
    }
   ],
   "source": [
    "len(q_set_right)"
   ]
  },
  {
   "cell_type": "code",
   "execution_count": 21,
   "metadata": {},
   "outputs": [],
   "source": [
    "new_preds_test_oracle = []\n",
    "for pred in preds_test_oracle:\n",
    "    if pred['question'] in q_set_right:\n",
    "        continue\n",
    "    model_answer = pred['model_answer']\n",
    "    gold_answers = pred['answers']\n",
    "    "
   ]
  }
 ],
 "metadata": {
  "kernelspec": {
   "display_name": "base",
   "language": "python",
   "name": "python3"
  },
  "language_info": {
   "codemirror_mode": {
    "name": "ipython",
    "version": 3
   },
   "file_extension": ".py",
   "mimetype": "text/x-python",
   "name": "python",
   "nbconvert_exporter": "python",
   "pygments_lexer": "ipython3",
   "version": "3.11.9"
  }
 },
 "nbformat": 4,
 "nbformat_minor": 2
}
